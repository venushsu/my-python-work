{
 "cells": [
  {
   "cell_type": "code",
   "execution_count": 1,
   "metadata": {},
   "outputs": [],
   "source": [
    "%matplotlib inline \n",
    "import numpy as np\n",
    "import matplotlib.pyplot as plt \n",
    "import pandas as pd"
   ]
  },
  {
   "cell_type": "code",
   "execution_count": 21,
   "metadata": {},
   "outputs": [
    {
     "data": {
      "text/plain": [
       "[<matplotlib.lines.Line2D at 0x115a70128>]"
      ]
     },
     "execution_count": 21,
     "metadata": {},
     "output_type": "execute_result"
    },
    {
     "data": {
      "image/png": "[encoded data removed]",
      "text/plain": [
       "<Figure size 432x288 with 4 Axes>"
      ]
     },
     "metadata": {
      "needs_background": "light"
     },
     "output_type": "display_data"
    }
   ],
   "source": [
    "x1 = [0,0,0,0,1,2,3,3,3,3]\n",
    "y1 = [1,2,3,4,3,2,1,2,3,4]\n",
    "\n",
    "x2 = [4,3,2,1,2,3,4]\n",
    "y2 = [5,6,5,3,1,0,1]\n",
    "\n",
    "x3 = [4,3,2,1,2,3,4]\n",
    "y3 = [5,6,5,3,1,0,1]\n",
    "\n",
    "\n",
    "x4 = [0,0,0,0,1,2,3,3,3,3]\n",
    "y4 = [3,2,1,0,0,0,0,1,2,3]\n",
    "\n",
    "plt.subplot(241)\n",
    "plt.plot(x1,y1,\"pink\",lw=8)\n",
    "\n",
    "plt.subplot(242)\n",
    "plt.plot(x2,y2,\"yellow\",lw=8)\n",
    "\n",
    "plt.subplot(243)\n",
    "plt.plot(x3,y3,\"green\",lw=8)\n",
    "\n",
    "plt.subplot(244)\n",
    "plt.plot(x4,y4,\"purple\",lw=8)"
   ]
  },
  {
   "cell_type": "code",
   "execution_count": null,
   "metadata": {},
   "outputs": [],
   "source": []
  }
 ],
 "metadata": {
  "kernelspec": {
   "display_name": "Python 3",
   "language": "python",
   "name": "python3"
  },
  "language_info": {
   "codemirror_mode": {
    "name": "ipython",
    "version": 3
   },
   "file_extension": ".py",
   "mimetype": "text/x-python",
   "name": "python",
   "nbconvert_exporter": "python",
   "pygments_lexer": "ipython3",
   "version": "3.7.3"
  }
 },
 "nbformat": 4,
 "nbformat_minor": 2
}
