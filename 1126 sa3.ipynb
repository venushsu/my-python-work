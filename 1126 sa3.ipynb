{
 "cells": [
  {
   "cell_type": "code",
   "execution_count": 1,
   "metadata": {},
   "outputs": [],
   "source": [
    "%matplotlib tk\n",
    "%matplotlib inline\n",
    "import numpy as np\n",
    "import  matplotlib.pyplot as plt\n",
    "import pandas as pd"
   ]
  },
  {
   "cell_type": "code",
   "execution_count": 2,
   "metadata": {},
   "outputs": [],
   "source": [
    "df=pd.read_csv('./107_ab106_S.csv')"
   ]
  },
  {
   "cell_type": "code",
   "execution_count": 3,
   "metadata": {},
   "outputs": [
    {
     "data": {
      "text/html": [
       "<div>\n",
       "<style scoped>\n",
       "    .dataframe tbody tr th:only-of-type {\n",
       "        vertical-align: middle;\n",
       "    }\n",
       "\n",
       "    .dataframe tbody tr th {\n",
       "        vertical-align: top;\n",
       "    }\n",
       "\n",
       "    .dataframe thead th {\n",
       "        text-align: right;\n",
       "    }\n",
       "</style>\n",
       "<table border=\"1\" class=\"dataframe\">\n",
       "  <thead>\n",
       "    <tr style=\"text-align: right;\">\n",
       "      <th></th>\n",
       "      <th>大專校院</th>\n",
       "      <th>學校代碼</th>\n",
       "      <th>學校名稱</th>\n",
       "      <th>學位生_正式修讀學位外國生</th>\n",
       "      <th>學位生_僑生(含港澳)</th>\n",
       "      <th>學位生_正式修讀學位陸生</th>\n",
       "      <th>非學位生_外國交換生</th>\n",
       "      <th>非學位生_外國短期研習及個人選讀</th>\n",
       "      <th>非學位生_大專附設華語文中心學生</th>\n",
       "      <th>非學位生_大陸研修生</th>\n",
       "      <th>非學位生_海青班</th>\n",
       "      <th>境外專班</th>\n",
       "    </tr>\n",
       "  </thead>\n",
       "  <tbody>\n",
       "    <tr>\n",
       "      <th>0</th>\n",
       "      <td>大專校院</td>\n",
       "      <td>0001</td>\n",
       "      <td>國立政治大學</td>\n",
       "      <td>511</td>\n",
       "      <td>653</td>\n",
       "      <td>366</td>\n",
       "      <td>523</td>\n",
       "      <td>58</td>\n",
       "      <td>861</td>\n",
       "      <td>0</td>\n",
       "      <td>0</td>\n",
       "      <td>0</td>\n",
       "    </tr>\n",
       "    <tr>\n",
       "      <th>1</th>\n",
       "      <td>大專校院</td>\n",
       "      <td>0002</td>\n",
       "      <td>國立清華大學</td>\n",
       "      <td>564</td>\n",
       "      <td>497</td>\n",
       "      <td>279</td>\n",
       "      <td>62</td>\n",
       "      <td>147</td>\n",
       "      <td>425</td>\n",
       "      <td>0</td>\n",
       "      <td>0</td>\n",
       "      <td>0</td>\n",
       "    </tr>\n",
       "    <tr>\n",
       "      <th>2</th>\n",
       "      <td>大專校院</td>\n",
       "      <td>0003</td>\n",
       "      <td>國立臺灣大學</td>\n",
       "      <td>883</td>\n",
       "      <td>1395</td>\n",
       "      <td>474</td>\n",
       "      <td>723</td>\n",
       "      <td>516</td>\n",
       "      <td>953</td>\n",
       "      <td>0</td>\n",
       "      <td>0</td>\n",
       "      <td>0</td>\n",
       "    </tr>\n",
       "  </tbody>\n",
       "</table>\n",
       "</div>"
      ],
      "text/plain": [
       "   大專校院  學校代碼    學校名稱  學位生_正式修讀學位外國生  學位生_僑生(含港澳)  學位生_正式修讀學位陸生  非學位生_外國交換生  \\\n",
       "0  大專校院  0001  國立政治大學            511          653           366         523   \n",
       "1  大專校院  0002  國立清華大學            564          497           279          62   \n",
       "2  大專校院  0003  國立臺灣大學            883         1395           474         723   \n",
       "\n",
       "   非學位生_外國短期研習及個人選讀  非學位生_大專附設華語文中心學生  非學位生_大陸研修生  非學位生_海青班  境外專班  \n",
       "0                58               861           0         0     0  \n",
       "1               147               425           0         0     0  \n",
       "2               516               953           0         0     0  "
      ]
     },
     "execution_count": 3,
     "metadata": {},
     "output_type": "execute_result"
    }
   ],
   "source": [
    "df.head(3)"
   ]
  },
  {
   "cell_type": "code",
   "execution_count": 4,
   "metadata": {},
   "outputs": [],
   "source": [
    "df1=df[:5]"
   ]
  },
  {
   "cell_type": "code",
   "execution_count": 5,
   "metadata": {},
   "outputs": [
    {
     "data": {
      "text/plain": [
       "<matplotlib.axes._subplots.AxesSubplot at 0x11578d2b0>"
      ]
     },
     "execution_count": 5,
     "metadata": {},
     "output_type": "execute_result"
    },
    {
     "name": "stderr",
     "output_type": "stream",
     "text": [
      "//anaconda3/lib/python3.7/site-packages/matplotlib/backends/backend_agg.py:211: RuntimeWarning: Glyph 22283 missing from current font.\n",
      "  font.set_text(s, 0.0, flags=flags)\n",
      "//anaconda3/lib/python3.7/site-packages/matplotlib/backends/backend_agg.py:211: RuntimeWarning: Glyph 31435 missing from current font.\n",
      "  font.set_text(s, 0.0, flags=flags)\n",
      "//anaconda3/lib/python3.7/site-packages/matplotlib/backends/backend_agg.py:211: RuntimeWarning: Glyph 25919 missing from current font.\n",
      "  font.set_text(s, 0.0, flags=flags)\n",
      "//anaconda3/lib/python3.7/site-packages/matplotlib/backends/backend_agg.py:211: RuntimeWarning: Glyph 27835 missing from current font.\n",
      "  font.set_text(s, 0.0, flags=flags)\n",
      "//anaconda3/lib/python3.7/site-packages/matplotlib/backends/backend_agg.py:211: RuntimeWarning: Glyph 22823 missing from current font.\n",
      "  font.set_text(s, 0.0, flags=flags)\n",
      "//anaconda3/lib/python3.7/site-packages/matplotlib/backends/backend_agg.py:211: RuntimeWarning: Glyph 23416 missing from current font.\n",
      "  font.set_text(s, 0.0, flags=flags)\n",
      "//anaconda3/lib/python3.7/site-packages/matplotlib/backends/backend_agg.py:211: RuntimeWarning: Glyph 28165 missing from current font.\n",
      "  font.set_text(s, 0.0, flags=flags)\n",
      "//anaconda3/lib/python3.7/site-packages/matplotlib/backends/backend_agg.py:211: RuntimeWarning: Glyph 33775 missing from current font.\n",
      "  font.set_text(s, 0.0, flags=flags)\n",
      "//anaconda3/lib/python3.7/site-packages/matplotlib/backends/backend_agg.py:211: RuntimeWarning: Glyph 33274 missing from current font.\n",
      "  font.set_text(s, 0.0, flags=flags)\n",
      "//anaconda3/lib/python3.7/site-packages/matplotlib/backends/backend_agg.py:211: RuntimeWarning: Glyph 28771 missing from current font.\n",
      "  font.set_text(s, 0.0, flags=flags)\n",
      "//anaconda3/lib/python3.7/site-packages/matplotlib/backends/backend_agg.py:211: RuntimeWarning: Glyph 24107 missing from current font.\n",
      "  font.set_text(s, 0.0, flags=flags)\n",
      "//anaconda3/lib/python3.7/site-packages/matplotlib/backends/backend_agg.py:211: RuntimeWarning: Glyph 31684 missing from current font.\n",
      "  font.set_text(s, 0.0, flags=flags)\n",
      "//anaconda3/lib/python3.7/site-packages/matplotlib/backends/backend_agg.py:211: RuntimeWarning: Glyph 20689 missing from current font.\n",
      "  font.set_text(s, 0.0, flags=flags)\n",
      "//anaconda3/lib/python3.7/site-packages/matplotlib/backends/backend_agg.py:211: RuntimeWarning: Glyph 29983 missing from current font.\n",
      "  font.set_text(s, 0.0, flags=flags)\n",
      "//anaconda3/lib/python3.7/site-packages/matplotlib/backends/backend_agg.py:211: RuntimeWarning: Glyph 20808 missing from current font.\n",
      "  font.set_text(s, 0.0, flags=flags)\n",
      "//anaconda3/lib/python3.7/site-packages/matplotlib/backends/backend_agg.py:211: RuntimeWarning: Glyph 20462 missing from current font.\n",
      "  font.set_text(s, 0.0, flags=flags)\n",
      "//anaconda3/lib/python3.7/site-packages/matplotlib/backends/backend_agg.py:211: RuntimeWarning: Glyph 37096 missing from current font.\n",
      "  font.set_text(s, 0.0, flags=flags)\n",
      "//anaconda3/lib/python3.7/site-packages/matplotlib/backends/backend_agg.py:180: RuntimeWarning: Glyph 22283 missing from current font.\n",
      "  font.set_text(s, 0, flags=flags)\n",
      "//anaconda3/lib/python3.7/site-packages/matplotlib/backends/backend_agg.py:180: RuntimeWarning: Glyph 31435 missing from current font.\n",
      "  font.set_text(s, 0, flags=flags)\n",
      "//anaconda3/lib/python3.7/site-packages/matplotlib/backends/backend_agg.py:180: RuntimeWarning: Glyph 25919 missing from current font.\n",
      "  font.set_text(s, 0, flags=flags)\n",
      "//anaconda3/lib/python3.7/site-packages/matplotlib/backends/backend_agg.py:180: RuntimeWarning: Glyph 27835 missing from current font.\n",
      "  font.set_text(s, 0, flags=flags)\n",
      "//anaconda3/lib/python3.7/site-packages/matplotlib/backends/backend_agg.py:180: RuntimeWarning: Glyph 22823 missing from current font.\n",
      "  font.set_text(s, 0, flags=flags)\n",
      "//anaconda3/lib/python3.7/site-packages/matplotlib/backends/backend_agg.py:180: RuntimeWarning: Glyph 23416 missing from current font.\n",
      "  font.set_text(s, 0, flags=flags)\n",
      "//anaconda3/lib/python3.7/site-packages/matplotlib/backends/backend_agg.py:180: RuntimeWarning: Glyph 28165 missing from current font.\n",
      "  font.set_text(s, 0, flags=flags)\n",
      "//anaconda3/lib/python3.7/site-packages/matplotlib/backends/backend_agg.py:180: RuntimeWarning: Glyph 33775 missing from current font.\n",
      "  font.set_text(s, 0, flags=flags)\n",
      "//anaconda3/lib/python3.7/site-packages/matplotlib/backends/backend_agg.py:180: RuntimeWarning: Glyph 33274 missing from current font.\n",
      "  font.set_text(s, 0, flags=flags)\n",
      "//anaconda3/lib/python3.7/site-packages/matplotlib/backends/backend_agg.py:180: RuntimeWarning: Glyph 28771 missing from current font.\n",
      "  font.set_text(s, 0, flags=flags)\n",
      "//anaconda3/lib/python3.7/site-packages/matplotlib/backends/backend_agg.py:180: RuntimeWarning: Glyph 24107 missing from current font.\n",
      "  font.set_text(s, 0, flags=flags)\n",
      "//anaconda3/lib/python3.7/site-packages/matplotlib/backends/backend_agg.py:180: RuntimeWarning: Glyph 31684 missing from current font.\n",
      "  font.set_text(s, 0, flags=flags)\n",
      "//anaconda3/lib/python3.7/site-packages/matplotlib/backends/backend_agg.py:180: RuntimeWarning: Glyph 20689 missing from current font.\n",
      "  font.set_text(s, 0, flags=flags)\n",
      "//anaconda3/lib/python3.7/site-packages/matplotlib/backends/backend_agg.py:180: RuntimeWarning: Glyph 29983 missing from current font.\n",
      "  font.set_text(s, 0, flags=flags)\n",
      "//anaconda3/lib/python3.7/site-packages/matplotlib/backends/backend_agg.py:180: RuntimeWarning: Glyph 20808 missing from current font.\n",
      "  font.set_text(s, 0, flags=flags)\n",
      "//anaconda3/lib/python3.7/site-packages/matplotlib/backends/backend_agg.py:180: RuntimeWarning: Glyph 20462 missing from current font.\n",
      "  font.set_text(s, 0, flags=flags)\n",
      "//anaconda3/lib/python3.7/site-packages/matplotlib/backends/backend_agg.py:180: RuntimeWarning: Glyph 37096 missing from current font.\n",
      "  font.set_text(s, 0, flags=flags)\n",
      "//anaconda3/lib/python3.7/site-packages/matplotlib/backends/backend_agg.py:211: RuntimeWarning: Glyph 26657 missing from current font.\n",
      "  font.set_text(s, 0.0, flags=flags)\n",
      "//anaconda3/lib/python3.7/site-packages/matplotlib/backends/backend_agg.py:211: RuntimeWarning: Glyph 21517 missing from current font.\n",
      "  font.set_text(s, 0.0, flags=flags)\n",
      "//anaconda3/lib/python3.7/site-packages/matplotlib/backends/backend_agg.py:211: RuntimeWarning: Glyph 31281 missing from current font.\n",
      "  font.set_text(s, 0.0, flags=flags)\n",
      "//anaconda3/lib/python3.7/site-packages/matplotlib/backends/backend_agg.py:180: RuntimeWarning: Glyph 26657 missing from current font.\n",
      "  font.set_text(s, 0, flags=flags)\n",
      "//anaconda3/lib/python3.7/site-packages/matplotlib/backends/backend_agg.py:180: RuntimeWarning: Glyph 21517 missing from current font.\n",
      "  font.set_text(s, 0, flags=flags)\n",
      "//anaconda3/lib/python3.7/site-packages/matplotlib/backends/backend_agg.py:180: RuntimeWarning: Glyph 31281 missing from current font.\n",
      "  font.set_text(s, 0, flags=flags)\n",
      "//anaconda3/lib/python3.7/site-packages/matplotlib/backends/backend_agg.py:211: RuntimeWarning: Glyph 38750 missing from current font.\n",
      "  font.set_text(s, 0.0, flags=flags)\n",
      "//anaconda3/lib/python3.7/site-packages/matplotlib/backends/backend_agg.py:211: RuntimeWarning: Glyph 20301 missing from current font.\n",
      "  font.set_text(s, 0.0, flags=flags)\n",
      "//anaconda3/lib/python3.7/site-packages/matplotlib/backends/backend_agg.py:211: RuntimeWarning: Glyph 22806 missing from current font.\n",
      "  font.set_text(s, 0.0, flags=flags)\n",
      "//anaconda3/lib/python3.7/site-packages/matplotlib/backends/backend_agg.py:211: RuntimeWarning: Glyph 20132 missing from current font.\n",
      "  font.set_text(s, 0.0, flags=flags)\n",
      "//anaconda3/lib/python3.7/site-packages/matplotlib/backends/backend_agg.py:211: RuntimeWarning: Glyph 25563 missing from current font.\n",
      "  font.set_text(s, 0.0, flags=flags)\n",
      "//anaconda3/lib/python3.7/site-packages/matplotlib/backends/backend_agg.py:211: RuntimeWarning: Glyph 27491 missing from current font.\n",
      "  font.set_text(s, 0.0, flags=flags)\n",
      "//anaconda3/lib/python3.7/site-packages/matplotlib/backends/backend_agg.py:211: RuntimeWarning: Glyph 24335 missing from current font.\n",
      "  font.set_text(s, 0.0, flags=flags)\n",
      "//anaconda3/lib/python3.7/site-packages/matplotlib/backends/backend_agg.py:211: RuntimeWarning: Glyph 35712 missing from current font.\n",
      "  font.set_text(s, 0.0, flags=flags)\n",
      "//anaconda3/lib/python3.7/site-packages/matplotlib/backends/backend_agg.py:211: RuntimeWarning: Glyph 38520 missing from current font.\n",
      "  font.set_text(s, 0.0, flags=flags)\n",
      "//anaconda3/lib/python3.7/site-packages/matplotlib/backends/backend_agg.py:211: RuntimeWarning: Glyph 28023 missing from current font.\n",
      "  font.set_text(s, 0.0, flags=flags)\n",
      "//anaconda3/lib/python3.7/site-packages/matplotlib/backends/backend_agg.py:211: RuntimeWarning: Glyph 38738 missing from current font.\n",
      "  font.set_text(s, 0.0, flags=flags)\n",
      "//anaconda3/lib/python3.7/site-packages/matplotlib/backends/backend_agg.py:211: RuntimeWarning: Glyph 29677 missing from current font.\n",
      "  font.set_text(s, 0.0, flags=flags)\n",
      "//anaconda3/lib/python3.7/site-packages/matplotlib/backends/backend_agg.py:180: RuntimeWarning: Glyph 38750 missing from current font.\n",
      "  font.set_text(s, 0, flags=flags)\n",
      "//anaconda3/lib/python3.7/site-packages/matplotlib/backends/backend_agg.py:180: RuntimeWarning: Glyph 20301 missing from current font.\n",
      "  font.set_text(s, 0, flags=flags)\n",
      "//anaconda3/lib/python3.7/site-packages/matplotlib/backends/backend_agg.py:180: RuntimeWarning: Glyph 22806 missing from current font.\n",
      "  font.set_text(s, 0, flags=flags)\n",
      "//anaconda3/lib/python3.7/site-packages/matplotlib/backends/backend_agg.py:180: RuntimeWarning: Glyph 20132 missing from current font.\n",
      "  font.set_text(s, 0, flags=flags)\n",
      "//anaconda3/lib/python3.7/site-packages/matplotlib/backends/backend_agg.py:180: RuntimeWarning: Glyph 25563 missing from current font.\n",
      "  font.set_text(s, 0, flags=flags)\n",
      "//anaconda3/lib/python3.7/site-packages/matplotlib/backends/backend_agg.py:180: RuntimeWarning: Glyph 27491 missing from current font.\n",
      "  font.set_text(s, 0, flags=flags)\n",
      "//anaconda3/lib/python3.7/site-packages/matplotlib/backends/backend_agg.py:180: RuntimeWarning: Glyph 24335 missing from current font.\n",
      "  font.set_text(s, 0, flags=flags)\n",
      "//anaconda3/lib/python3.7/site-packages/matplotlib/backends/backend_agg.py:180: RuntimeWarning: Glyph 35712 missing from current font.\n",
      "  font.set_text(s, 0, flags=flags)\n",
      "//anaconda3/lib/python3.7/site-packages/matplotlib/backends/backend_agg.py:180: RuntimeWarning: Glyph 38520 missing from current font.\n",
      "  font.set_text(s, 0, flags=flags)\n",
      "//anaconda3/lib/python3.7/site-packages/matplotlib/backends/backend_agg.py:180: RuntimeWarning: Glyph 28023 missing from current font.\n",
      "  font.set_text(s, 0, flags=flags)\n",
      "//anaconda3/lib/python3.7/site-packages/matplotlib/backends/backend_agg.py:180: RuntimeWarning: Glyph 38738 missing from current font.\n",
      "  font.set_text(s, 0, flags=flags)\n",
      "//anaconda3/lib/python3.7/site-packages/matplotlib/backends/backend_agg.py:180: RuntimeWarning: Glyph 29677 missing from current font.\n",
      "  font.set_text(s, 0, flags=flags)\n"
     ]
    },
    {
     "data": {
      "image/png": "[encoded data removed]",
      "text/plain": [
       "<Figure size 432x288 with 1 Axes>"
      ]
     },
     "metadata": {
      "needs_background": "light"
     },
     "output_type": "display_data"
    }
   ],
   "source": [
    "df1.plot('學校名稱',['非學位生_外國交換生','學位生_正式修讀學位陸生','非學位生_海青班'],kind = 'bar')"
   ]
  },
  {
   "cell_type": "code",
   "execution_count": 6,
   "metadata": {},
   "outputs": [
    {
     "data": {
      "text/plain": [
       "<matplotlib.axes._subplots.AxesSubplot at 0x115b1f390>"
      ]
     },
     "execution_count": 6,
     "metadata": {},
     "output_type": "execute_result"
    },
    {
     "data": {
      "image/png": "[encoded data removed]",
      "text/plain": [
       "<Figure size 432x288 with 1 Axes>"
      ]
     },
     "metadata": {
      "needs_background": "light"
     },
     "output_type": "display_data"
    }
   ],
   "source": [
    "df1.plot('學校名稱',['非學位生_外國交換生','學位生_正式修讀學位陸生','非學位生_海青班'],kind = 'line')"
   ]
  },
  {
   "cell_type": "code",
   "execution_count": null,
   "metadata": {},
   "outputs": [],
   "source": []
  }
 ],
 "metadata": {
  "kernelspec": {
   "display_name": "Python 3",
   "language": "python",
   "name": "python3"
  },
  "language_info": {
   "codemirror_mode": {
    "name": "ipython",
    "version": 3
   },
   "file_extension": ".py",
   "mimetype": "text/x-python",
   "name": "python",
   "nbconvert_exporter": "python",
   "pygments_lexer": "ipython3",
   "version": "3.7.3"
  }
 },
 "nbformat": 4,
 "nbformat_minor": 2
}
