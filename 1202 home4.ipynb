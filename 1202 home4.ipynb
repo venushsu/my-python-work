{
 "cells": [
  {
   "cell_type": "code",
   "execution_count": 1,
   "metadata": {},
   "outputs": [],
   "source": [
    "import pandas as pd"
   ]
  },
  {
   "cell_type": "code",
   "execution_count": 2,
   "metadata": {},
   "outputs": [],
   "source": [
    "df=pd.read_csv('./Demographic_Statistics_By_Zip_Code.csv')"
   ]
  },
  {
   "cell_type": "code",
   "execution_count": 3,
   "metadata": {},
   "outputs": [
    {
     "data": {
      "text/html": [
       "<div>\n",
       "<style scoped>\n",
       "    .dataframe tbody tr th:only-of-type {\n",
       "        vertical-align: middle;\n",
       "    }\n",
       "\n",
       "    .dataframe tbody tr th {\n",
       "        vertical-align: top;\n",
       "    }\n",
       "\n",
       "    .dataframe thead th {\n",
       "        text-align: right;\n",
       "    }\n",
       "</style>\n",
       "<table border=\"1\" class=\"dataframe\">\n",
       "  <thead>\n",
       "    <tr style=\"text-align: right;\">\n",
       "      <th></th>\n",
       "      <th>JURISDICTION NAME</th>\n",
       "      <th>COUNT PARTICIPANTS</th>\n",
       "      <th>COUNT FEMALE</th>\n",
       "      <th>PERCENT FEMALE</th>\n",
       "      <th>COUNT MALE</th>\n",
       "      <th>PERCENT MALE</th>\n",
       "      <th>COUNT GENDER UNKNOWN</th>\n",
       "      <th>PERCENT GENDER UNKNOWN</th>\n",
       "      <th>COUNT GENDER TOTAL</th>\n",
       "      <th>PERCENT GENDER TOTAL</th>\n",
       "      <th>...</th>\n",
       "      <th>COUNT CITIZEN STATUS TOTAL</th>\n",
       "      <th>PERCENT CITIZEN STATUS TOTAL</th>\n",
       "      <th>COUNT RECEIVES PUBLIC ASSISTANCE</th>\n",
       "      <th>PERCENT RECEIVES PUBLIC ASSISTANCE</th>\n",
       "      <th>COUNT NRECEIVES PUBLIC ASSISTANCE</th>\n",
       "      <th>PERCENT NRECEIVES PUBLIC ASSISTANCE</th>\n",
       "      <th>COUNT PUBLIC ASSISTANCE UNKNOWN</th>\n",
       "      <th>PERCENT PUBLIC ASSISTANCE UNKNOWN</th>\n",
       "      <th>COUNT PUBLIC ASSISTANCE TOTAL</th>\n",
       "      <th>PERCENT PUBLIC ASSISTANCE TOTAL</th>\n",
       "    </tr>\n",
       "  </thead>\n",
       "  <tbody>\n",
       "    <tr>\n",
       "      <th>0</th>\n",
       "      <td>10001</td>\n",
       "      <td>44</td>\n",
       "      <td>22</td>\n",
       "      <td>0.50</td>\n",
       "      <td>22</td>\n",
       "      <td>0.50</td>\n",
       "      <td>0</td>\n",
       "      <td>0</td>\n",
       "      <td>44</td>\n",
       "      <td>100</td>\n",
       "      <td>...</td>\n",
       "      <td>44</td>\n",
       "      <td>100</td>\n",
       "      <td>20</td>\n",
       "      <td>0.45</td>\n",
       "      <td>24</td>\n",
       "      <td>0.55</td>\n",
       "      <td>0</td>\n",
       "      <td>0</td>\n",
       "      <td>44</td>\n",
       "      <td>100</td>\n",
       "    </tr>\n",
       "    <tr>\n",
       "      <th>1</th>\n",
       "      <td>10002</td>\n",
       "      <td>35</td>\n",
       "      <td>19</td>\n",
       "      <td>0.54</td>\n",
       "      <td>16</td>\n",
       "      <td>0.46</td>\n",
       "      <td>0</td>\n",
       "      <td>0</td>\n",
       "      <td>35</td>\n",
       "      <td>100</td>\n",
       "      <td>...</td>\n",
       "      <td>35</td>\n",
       "      <td>100</td>\n",
       "      <td>2</td>\n",
       "      <td>0.06</td>\n",
       "      <td>33</td>\n",
       "      <td>0.94</td>\n",
       "      <td>0</td>\n",
       "      <td>0</td>\n",
       "      <td>35</td>\n",
       "      <td>100</td>\n",
       "    </tr>\n",
       "    <tr>\n",
       "      <th>2</th>\n",
       "      <td>10003</td>\n",
       "      <td>1</td>\n",
       "      <td>1</td>\n",
       "      <td>1.00</td>\n",
       "      <td>0</td>\n",
       "      <td>0.00</td>\n",
       "      <td>0</td>\n",
       "      <td>0</td>\n",
       "      <td>1</td>\n",
       "      <td>100</td>\n",
       "      <td>...</td>\n",
       "      <td>1</td>\n",
       "      <td>100</td>\n",
       "      <td>0</td>\n",
       "      <td>0.00</td>\n",
       "      <td>1</td>\n",
       "      <td>1.00</td>\n",
       "      <td>0</td>\n",
       "      <td>0</td>\n",
       "      <td>1</td>\n",
       "      <td>100</td>\n",
       "    </tr>\n",
       "  </tbody>\n",
       "</table>\n",
       "<p>3 rows × 46 columns</p>\n",
       "</div>"
      ],
      "text/plain": [
       "   JURISDICTION NAME  COUNT PARTICIPANTS  COUNT FEMALE  PERCENT FEMALE  \\\n",
       "0              10001                  44            22            0.50   \n",
       "1              10002                  35            19            0.54   \n",
       "2              10003                   1             1            1.00   \n",
       "\n",
       "   COUNT MALE  PERCENT MALE  COUNT GENDER UNKNOWN  PERCENT GENDER UNKNOWN  \\\n",
       "0          22          0.50                     0                       0   \n",
       "1          16          0.46                     0                       0   \n",
       "2           0          0.00                     0                       0   \n",
       "\n",
       "   COUNT GENDER TOTAL  PERCENT GENDER TOTAL  ...  COUNT CITIZEN STATUS TOTAL  \\\n",
       "0                  44                   100  ...                          44   \n",
       "1                  35                   100  ...                          35   \n",
       "2                   1                   100  ...                           1   \n",
       "\n",
       "   PERCENT CITIZEN STATUS TOTAL  COUNT RECEIVES PUBLIC ASSISTANCE  \\\n",
       "0                           100                                20   \n",
       "1                           100                                 2   \n",
       "2                           100                                 0   \n",
       "\n",
       "   PERCENT RECEIVES PUBLIC ASSISTANCE  COUNT NRECEIVES PUBLIC ASSISTANCE  \\\n",
       "0                                0.45                                 24   \n",
       "1                                0.06                                 33   \n",
       "2                                0.00                                  1   \n",
       "\n",
       "   PERCENT NRECEIVES PUBLIC ASSISTANCE  COUNT PUBLIC ASSISTANCE UNKNOWN  \\\n",
       "0                                 0.55                                0   \n",
       "1                                 0.94                                0   \n",
       "2                                 1.00                                0   \n",
       "\n",
       "   PERCENT PUBLIC ASSISTANCE UNKNOWN  COUNT PUBLIC ASSISTANCE TOTAL  \\\n",
       "0                                  0                             44   \n",
       "1                                  0                             35   \n",
       "2                                  0                              1   \n",
       "\n",
       "   PERCENT PUBLIC ASSISTANCE TOTAL  \n",
       "0                              100  \n",
       "1                              100  \n",
       "2                              100  \n",
       "\n",
       "[3 rows x 46 columns]"
      ]
     },
     "execution_count": 3,
     "metadata": {},
     "output_type": "execute_result"
    }
   ],
   "source": [
    "df.head(3)"
   ]
  },
  {
   "cell_type": "code",
   "execution_count": 4,
   "metadata": {},
   "outputs": [],
   "source": [
    "%matplotlib tk\n",
    "%matplotlib inline\n",
    "import numpy as np\n",
    "import  matplotlib.pyplot as plt\n",
    "import pandas as pd"
   ]
  },
  {
   "cell_type": "code",
   "execution_count": 5,
   "metadata": {},
   "outputs": [],
   "source": [
    "df1=df[:5]"
   ]
  },
  {
   "cell_type": "code",
   "execution_count": 8,
   "metadata": {},
   "outputs": [
    {
     "data": {
      "text/plain": [
       "<matplotlib.axes._subplots.AxesSubplot at 0x11c529978>"
      ]
     },
     "execution_count": 8,
     "metadata": {},
     "output_type": "execute_result"
    },
    {
     "data": {
      "image/png": "[encoded data removed]",
      "text/plain": [
       "<Figure size 432x288 with 1 Axes>"
      ]
     },
     "metadata": {
      "needs_background": "light"
     },
     "output_type": "display_data"
    }
   ],
   "source": [
    "df1.plot('JURISDICTION NAME',['COUNT NRECEIVES PUBLIC ASSISTANCE','COUNT FEMALE','COUNT MALE'],kind = 'Bar')"
   ]
  },
  {
   "cell_type": "code",
   "execution_count": null,
   "metadata": {},
   "outputs": [],
   "source": []
  }
 ],
 "metadata": {
  "kernelspec": {
   "display_name": "Python 3",
   "language": "python",
   "name": "python3"
  },
  "language_info": {
   "codemirror_mode": {
    "name": "ipython",
    "version": 3
   },
   "file_extension": ".py",
   "mimetype": "text/x-python",
   "name": "python",
   "nbconvert_exporter": "python",
   "pygments_lexer": "ipython3",
   "version": "3.7.3"
  }
 },
 "nbformat": 4,
 "nbformat_minor": 2
}
