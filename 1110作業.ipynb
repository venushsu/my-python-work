{
 "cells": [
  {
   "cell_type": "code",
   "execution_count": 1,
   "metadata": {},
   "outputs": [],
   "source": [
    "%matplotlib inline\n",
    "import numpy as np\n",
    "import matplotlib.pyplot as plt\n",
    "import pandas as pd"
   ]
  },
  {
   "cell_type": "markdown",
   "metadata": {},
   "source": [
    "# 匯入資料"
   ]
  },
  {
   "cell_type": "code",
   "execution_count": 32,
   "metadata": {},
   "outputs": [],
   "source": [
    "df = pd.read_html('https://tw.stock.yahoo.com/s/list.php?c=%A5b%BE%C9%C5%E9&rr=0.45947300%201572407529',\n",
    "                 encoding='big5')"
   ]
  },
  {
   "cell_type": "code",
   "execution_count": 33,
   "metadata": {},
   "outputs": [
    {
     "data": {
      "text/plain": [
       "5"
      ]
     },
     "execution_count": 33,
     "metadata": {},
     "output_type": "execute_result"
    }
   ],
   "source": [
    "len(df)"
   ]
  },
  {
   "cell_type": "code",
   "execution_count": 36,
   "metadata": {},
   "outputs": [],
   "source": [
    "df = df[2]"
   ]
  },
  {
   "cell_type": "code",
   "execution_count": 37,
   "metadata": {},
   "outputs": [
    {
     "data": {
      "text/html": [
       "<div>\n",
       "<style scoped>\n",
       "    .dataframe tbody tr th:only-of-type {\n",
       "        vertical-align: middle;\n",
       "    }\n",
       "\n",
       "    .dataframe tbody tr th {\n",
       "        vertical-align: top;\n",
       "    }\n",
       "\n",
       "    .dataframe thead th {\n",
       "        text-align: right;\n",
       "    }\n",
       "</style>\n",
       "<table border=\"1\" class=\"dataframe\">\n",
       "  <thead>\n",
       "    <tr style=\"text-align: right;\">\n",
       "      <th></th>\n",
       "      <th>選擇</th>\n",
       "      <th>股票代號</th>\n",
       "      <th>時間</th>\n",
       "      <th>成交</th>\n",
       "      <th>買進</th>\n",
       "      <th>賣出</th>\n",
       "      <th>漲跌</th>\n",
       "      <th>張數</th>\n",
       "      <th>昨收</th>\n",
       "      <th>開盤</th>\n",
       "      <th>最高</th>\n",
       "      <th>最低</th>\n",
       "    </tr>\n",
       "  </thead>\n",
       "  <tbody>\n",
       "    <tr>\n",
       "      <th>0</th>\n",
       "      <td>NaN</td>\n",
       "      <td>2302 麗正</td>\n",
       "      <td>10:50</td>\n",
       "      <td>7.80</td>\n",
       "      <td>7.74</td>\n",
       "      <td>7.80</td>\n",
       "      <td>▽0.17</td>\n",
       "      <td>47</td>\n",
       "      <td>7.97</td>\n",
       "      <td>7.88</td>\n",
       "      <td>7.88</td>\n",
       "      <td>7.72</td>\n",
       "    </tr>\n",
       "    <tr>\n",
       "      <th>1</th>\n",
       "      <td>NaN</td>\n",
       "      <td>2303 聯電</td>\n",
       "      <td>11:18</td>\n",
       "      <td>14.20</td>\n",
       "      <td>14.20</td>\n",
       "      <td>14.25</td>\n",
       "      <td>▽0.05</td>\n",
       "      <td>15360</td>\n",
       "      <td>14.25</td>\n",
       "      <td>14.30</td>\n",
       "      <td>14.35</td>\n",
       "      <td>14.15</td>\n",
       "    </tr>\n",
       "    <tr>\n",
       "      <th>2</th>\n",
       "      <td>NaN</td>\n",
       "      <td>2329 華泰</td>\n",
       "      <td>11:18</td>\n",
       "      <td>14.65</td>\n",
       "      <td>14.65</td>\n",
       "      <td>14.70</td>\n",
       "      <td>▽0.55</td>\n",
       "      <td>2953</td>\n",
       "      <td>15.20</td>\n",
       "      <td>15.05</td>\n",
       "      <td>15.05</td>\n",
       "      <td>14.65</td>\n",
       "    </tr>\n",
       "    <tr>\n",
       "      <th>3</th>\n",
       "      <td>NaN</td>\n",
       "      <td>2330 台積電</td>\n",
       "      <td>11:18</td>\n",
       "      <td>302.00</td>\n",
       "      <td>301.50</td>\n",
       "      <td>302.00</td>\n",
       "      <td>▽3.5</td>\n",
       "      <td>21938</td>\n",
       "      <td>305.50</td>\n",
       "      <td>305.00</td>\n",
       "      <td>305.00</td>\n",
       "      <td>300.00</td>\n",
       "    </tr>\n",
       "    <tr>\n",
       "      <th>4</th>\n",
       "      <td>NaN</td>\n",
       "      <td>2337 旺宏</td>\n",
       "      <td>11:18</td>\n",
       "      <td>29.10</td>\n",
       "      <td>29.10</td>\n",
       "      <td>29.15</td>\n",
       "      <td>▽0.50</td>\n",
       "      <td>21266</td>\n",
       "      <td>29.60</td>\n",
       "      <td>29.30</td>\n",
       "      <td>29.40</td>\n",
       "      <td>28.90</td>\n",
       "    </tr>\n",
       "  </tbody>\n",
       "</table>\n",
       "</div>"
      ],
      "text/plain": [
       "   選擇      股票代號     時間      成交      買進      賣出     漲跌     張數      昨收      開盤  \\\n",
       "0 NaN   2302 麗正  10:50    7.80    7.74    7.80  ▽0.17     47    7.97    7.88   \n",
       "1 NaN   2303 聯電  11:18   14.20   14.20   14.25  ▽0.05  15360   14.25   14.30   \n",
       "2 NaN   2329 華泰  11:18   14.65   14.65   14.70  ▽0.55   2953   15.20   15.05   \n",
       "3 NaN  2330 台積電  11:18  302.00  301.50  302.00   ▽3.5  21938  305.50  305.00   \n",
       "4 NaN   2337 旺宏  11:18   29.10   29.10   29.15  ▽0.50  21266   29.60   29.30   \n",
       "\n",
       "       最高      最低  \n",
       "0    7.88    7.72  \n",
       "1   14.35   14.15  \n",
       "2   15.05   14.65  \n",
       "3  305.00  300.00  \n",
       "4   29.40   28.90  "
      ]
     },
     "execution_count": 37,
     "metadata": {},
     "output_type": "execute_result"
    }
   ],
   "source": [
    "df.head()"
   ]
  },
  {
   "cell_type": "markdown",
   "metadata": {},
   "source": [
    "# 張數最多前五"
   ]
  },
  {
   "cell_type": "code",
   "execution_count": 38,
   "metadata": {},
   "outputs": [
    {
     "data": {
      "text/html": [
       "<div>\n",
       "<style scoped>\n",
       "    .dataframe tbody tr th:only-of-type {\n",
       "        vertical-align: middle;\n",
       "    }\n",
       "\n",
       "    .dataframe tbody tr th {\n",
       "        vertical-align: top;\n",
       "    }\n",
       "\n",
       "    .dataframe thead th {\n",
       "        text-align: right;\n",
       "    }\n",
       "</style>\n",
       "<table border=\"1\" class=\"dataframe\">\n",
       "  <thead>\n",
       "    <tr style=\"text-align: right;\">\n",
       "      <th></th>\n",
       "      <th>選擇</th>\n",
       "      <th>股票代號</th>\n",
       "      <th>時間</th>\n",
       "      <th>成交</th>\n",
       "      <th>買進</th>\n",
       "      <th>賣出</th>\n",
       "      <th>漲跌</th>\n",
       "      <th>張數</th>\n",
       "      <th>昨收</th>\n",
       "      <th>開盤</th>\n",
       "      <th>最高</th>\n",
       "      <th>最低</th>\n",
       "    </tr>\n",
       "  </thead>\n",
       "  <tbody>\n",
       "    <tr>\n",
       "      <th>3</th>\n",
       "      <td>NaN</td>\n",
       "      <td>2330 台積電</td>\n",
       "      <td>11:18</td>\n",
       "      <td>302.0</td>\n",
       "      <td>301.5</td>\n",
       "      <td>302.00</td>\n",
       "      <td>▽3.5</td>\n",
       "      <td>21938</td>\n",
       "      <td>305.50</td>\n",
       "      <td>305.00</td>\n",
       "      <td>305.00</td>\n",
       "      <td>300.00</td>\n",
       "    </tr>\n",
       "    <tr>\n",
       "      <th>4</th>\n",
       "      <td>NaN</td>\n",
       "      <td>2337 旺宏</td>\n",
       "      <td>11:18</td>\n",
       "      <td>29.1</td>\n",
       "      <td>29.1</td>\n",
       "      <td>29.15</td>\n",
       "      <td>▽0.50</td>\n",
       "      <td>21266</td>\n",
       "      <td>29.60</td>\n",
       "      <td>29.30</td>\n",
       "      <td>29.40</td>\n",
       "      <td>28.90</td>\n",
       "    </tr>\n",
       "    <tr>\n",
       "      <th>70</th>\n",
       "      <td>NaN</td>\n",
       "      <td>8150 南茂</td>\n",
       "      <td>11:18</td>\n",
       "      <td>36.4</td>\n",
       "      <td>36.4</td>\n",
       "      <td>36.45</td>\n",
       "      <td>△0.60</td>\n",
       "      <td>15697</td>\n",
       "      <td>35.80</td>\n",
       "      <td>35.80</td>\n",
       "      <td>36.65</td>\n",
       "      <td>35.25</td>\n",
       "    </tr>\n",
       "    <tr>\n",
       "      <th>1</th>\n",
       "      <td>NaN</td>\n",
       "      <td>2303 聯電</td>\n",
       "      <td>11:18</td>\n",
       "      <td>14.2</td>\n",
       "      <td>14.2</td>\n",
       "      <td>14.25</td>\n",
       "      <td>▽0.05</td>\n",
       "      <td>15360</td>\n",
       "      <td>14.25</td>\n",
       "      <td>14.30</td>\n",
       "      <td>14.35</td>\n",
       "      <td>14.15</td>\n",
       "    </tr>\n",
       "    <tr>\n",
       "      <th>18</th>\n",
       "      <td>NaN</td>\n",
       "      <td>2449 京元電子</td>\n",
       "      <td>11:18</td>\n",
       "      <td>37.4</td>\n",
       "      <td>37.4</td>\n",
       "      <td>37.45</td>\n",
       "      <td>▽0.05</td>\n",
       "      <td>13135</td>\n",
       "      <td>37.45</td>\n",
       "      <td>38.45</td>\n",
       "      <td>38.80</td>\n",
       "      <td>37.30</td>\n",
       "    </tr>\n",
       "  </tbody>\n",
       "</table>\n",
       "</div>"
      ],
      "text/plain": [
       "    選擇       股票代號     時間     成交     買進      賣出     漲跌     張數      昨收      開盤  \\\n",
       "3  NaN   2330 台積電  11:18  302.0  301.5  302.00   ▽3.5  21938  305.50  305.00   \n",
       "4  NaN    2337 旺宏  11:18   29.1   29.1   29.15  ▽0.50  21266   29.60   29.30   \n",
       "70 NaN    8150 南茂  11:18   36.4   36.4   36.45  △0.60  15697   35.80   35.80   \n",
       "1  NaN    2303 聯電  11:18   14.2   14.2   14.25  ▽0.05  15360   14.25   14.30   \n",
       "18 NaN  2449 京元電子  11:18   37.4   37.4   37.45  ▽0.05  13135   37.45   38.45   \n",
       "\n",
       "        最高      最低  \n",
       "3   305.00  300.00  \n",
       "4    29.40   28.90  \n",
       "70   36.65   35.25  \n",
       "1    14.35   14.15  \n",
       "18   38.80   37.30  "
      ]
     },
     "execution_count": 38,
     "metadata": {},
     "output_type": "execute_result"
    }
   ],
   "source": [
    "df.sort_values(by=[\"張數\"], ascending=False).head()"
   ]
  },
  {
   "cell_type": "markdown",
   "metadata": {},
   "source": [
    "# 張數最少前五"
   ]
  },
  {
   "cell_type": "code",
   "execution_count": 39,
   "metadata": {},
   "outputs": [
    {
     "data": {
      "text/html": [
       "<div>\n",
       "<style scoped>\n",
       "    .dataframe tbody tr th:only-of-type {\n",
       "        vertical-align: middle;\n",
       "    }\n",
       "\n",
       "    .dataframe tbody tr th {\n",
       "        vertical-align: top;\n",
       "    }\n",
       "\n",
       "    .dataframe thead th {\n",
       "        text-align: right;\n",
       "    }\n",
       "</style>\n",
       "<table border=\"1\" class=\"dataframe\">\n",
       "  <thead>\n",
       "    <tr style=\"text-align: right;\">\n",
       "      <th></th>\n",
       "      <th>選擇</th>\n",
       "      <th>股票代號</th>\n",
       "      <th>時間</th>\n",
       "      <th>成交</th>\n",
       "      <th>買進</th>\n",
       "      <th>賣出</th>\n",
       "      <th>漲跌</th>\n",
       "      <th>張數</th>\n",
       "      <th>昨收</th>\n",
       "      <th>開盤</th>\n",
       "      <th>最高</th>\n",
       "      <th>最低</th>\n",
       "    </tr>\n",
       "  </thead>\n",
       "  <tbody>\n",
       "    <tr>\n",
       "      <th>29</th>\n",
       "      <td>NaN</td>\n",
       "      <td>3054 立萬利</td>\n",
       "      <td>10:27</td>\n",
       "      <td>23.45</td>\n",
       "      <td>23.15</td>\n",
       "      <td>23.70</td>\n",
       "      <td>▽0.15</td>\n",
       "      <td>11</td>\n",
       "      <td>23.60</td>\n",
       "      <td>23.80</td>\n",
       "      <td>23.80</td>\n",
       "      <td>23.00</td>\n",
       "    </tr>\n",
       "    <tr>\n",
       "      <th>61</th>\n",
       "      <td>NaN</td>\n",
       "      <td>6531 愛普</td>\n",
       "      <td>11:11</td>\n",
       "      <td>46.05</td>\n",
       "      <td>46.00</td>\n",
       "      <td>46.05</td>\n",
       "      <td>▽0.15</td>\n",
       "      <td>19</td>\n",
       "      <td>46.20</td>\n",
       "      <td>46.20</td>\n",
       "      <td>46.20</td>\n",
       "      <td>46.00</td>\n",
       "    </tr>\n",
       "    <tr>\n",
       "      <th>64</th>\n",
       "      <td>NaN</td>\n",
       "      <td>6573 虹揚-KY</td>\n",
       "      <td>10:48</td>\n",
       "      <td>23.10</td>\n",
       "      <td>23.10</td>\n",
       "      <td>23.15</td>\n",
       "      <td>▽0.30</td>\n",
       "      <td>43</td>\n",
       "      <td>23.40</td>\n",
       "      <td>23.30</td>\n",
       "      <td>23.45</td>\n",
       "      <td>23.00</td>\n",
       "    </tr>\n",
       "    <tr>\n",
       "      <th>37</th>\n",
       "      <td>NaN</td>\n",
       "      <td>3536 誠創</td>\n",
       "      <td>10:35</td>\n",
       "      <td>6.00</td>\n",
       "      <td>5.93</td>\n",
       "      <td>6.00</td>\n",
       "      <td>▽0.05</td>\n",
       "      <td>45</td>\n",
       "      <td>6.05</td>\n",
       "      <td>6.01</td>\n",
       "      <td>6.01</td>\n",
       "      <td>6.00</td>\n",
       "    </tr>\n",
       "    <tr>\n",
       "      <th>0</th>\n",
       "      <td>NaN</td>\n",
       "      <td>2302 麗正</td>\n",
       "      <td>10:50</td>\n",
       "      <td>7.80</td>\n",
       "      <td>7.74</td>\n",
       "      <td>7.80</td>\n",
       "      <td>▽0.17</td>\n",
       "      <td>47</td>\n",
       "      <td>7.97</td>\n",
       "      <td>7.88</td>\n",
       "      <td>7.88</td>\n",
       "      <td>7.72</td>\n",
       "    </tr>\n",
       "  </tbody>\n",
       "</table>\n",
       "</div>"
      ],
      "text/plain": [
       "    選擇        股票代號     時間     成交     買進     賣出     漲跌  張數     昨收     開盤  \\\n",
       "29 NaN    3054 立萬利  10:27  23.45  23.15  23.70  ▽0.15  11  23.60  23.80   \n",
       "61 NaN     6531 愛普  11:11  46.05  46.00  46.05  ▽0.15  19  46.20  46.20   \n",
       "64 NaN  6573 虹揚-KY  10:48  23.10  23.10  23.15  ▽0.30  43  23.40  23.30   \n",
       "37 NaN     3536 誠創  10:35   6.00   5.93   6.00  ▽0.05  45   6.05   6.01   \n",
       "0  NaN     2302 麗正  10:50   7.80   7.74   7.80  ▽0.17  47   7.97   7.88   \n",
       "\n",
       "       最高     最低  \n",
       "29  23.80  23.00  \n",
       "61  46.20  46.00  \n",
       "64  23.45  23.00  \n",
       "37   6.01   6.00  \n",
       "0    7.88   7.72  "
      ]
     },
     "execution_count": 39,
     "metadata": {},
     "output_type": "execute_result"
    }
   ],
   "source": [
    "df.sort_values(by=[\"張數\"], ascending=True).head()"
   ]
  },
  {
   "cell_type": "markdown",
   "metadata": {},
   "source": [
    "# 資料繪圖"
   ]
  },
  {
   "cell_type": "code",
   "execution_count": 49,
   "metadata": {},
   "outputs": [
    {
     "data": {
      "text/plain": [
       "(<matplotlib.axes._subplots.AxesSubplot at 0x11ba4dfd0>,\n",
       " <matplotlib.axes._subplots.AxesSubplot at 0x11ba4dfd0>)"
      ]
     },
     "execution_count": 49,
     "metadata": {},
     "output_type": "execute_result"
    },
    {
     "data": {
      "image/png": "[encoded data removed]",
      "text/plain": [
       "<Figure size 432x288 with 1 Axes>"
      ]
     },
     "metadata": {
      "needs_background": "light"
     },
     "output_type": "display_data"
    }
   ],
   "source": [
    "df.張數.plot(color='b'),df.開盤.plot(color='r')"
   ]
  },
  {
   "cell_type": "code",
   "execution_count": null,
   "metadata": {},
   "outputs": [],
   "source": []
  }
 ],
 "metadata": {
  "kernelspec": {
   "display_name": "Python 3",
   "language": "python",
   "name": "python3"
  },
  "language_info": {
   "codemirror_mode": {
    "name": "ipython",
    "version": 3
   },
   "file_extension": ".py",
   "mimetype": "text/x-python",
   "name": "python",
   "nbconvert_exporter": "python",
   "pygments_lexer": "ipython3",
   "version": "3.7.3"
  }
 },
 "nbformat": 4,
 "nbformat_minor": 2
}
